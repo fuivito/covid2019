{
 "cells": [
  {
   "cell_type": "code",
   "execution_count": 1,
   "metadata": {},
   "outputs": [],
   "source": [
    "import pandas as pd\n",
    "import numpy as np\n",
    "from datetime import datetime"
   ]
  },
  {
   "cell_type": "code",
   "execution_count": 2,
   "metadata": {},
   "outputs": [],
   "source": [
    "today = datetime.today().strftime(\"%Y-%m-%d\")"
   ]
  },
  {
   "cell_type": "code",
   "execution_count": 3,
   "metadata": {},
   "outputs": [
    {
     "name": "stdout",
     "output_type": "stream",
     "text": [
      "Today is 2020-03-29\n"
     ]
    }
   ],
   "source": [
    "from urllib import request, parse\n",
    "print(\"Today is\", today)\n",
    "# url =  \"https://www.ecdc.europa.eu/sites/default/files/documents/COVID-19-geographic-disbtribution-worldwide-%s.xlsx\" % today\n",
    "url = \"https://opendata.ecdc.europa.eu/covid19/casedistribution/csv\"\n",
    "req =  request.Request(url) #, data=data) # this will make the method \"POST\"\n",
    "resp = request.urlopen(req)\n",
    "resp = resp.read()"
   ]
  },
  {
   "cell_type": "code",
   "execution_count": 4,
   "metadata": {},
   "outputs": [],
   "source": [
    "outfile = \"ECDC_%s.csv\" %today"
   ]
  },
  {
   "cell_type": "code",
   "execution_count": 5,
   "metadata": {},
   "outputs": [],
   "source": [
    "with open(outfile, 'wb') as out_cvs:\n",
    "    out_cvs.write(resp)\n",
    "\n",
    "data= pd.read_csv(outfile, encoding='mac_roman')\n",
    "\n",
    "data['dateRep'] = pd.to_datetime(data.dateRep)\n",
    "data.rename(columns={'dateRep' : 'date'}, inplace=True)\n",
    "\n",
    "\n",
    "data['geoId'] = (data.geoId)\n",
    "\n",
    "data = data.sort_values(['geoId','date'])"
   ]
  },
  {
   "cell_type": "code",
   "execution_count": 6,
   "metadata": {},
   "outputs": [],
   "source": [
    "cols_cum = ['cases','deaths']\n",
    "\n",
    "for col in cols_cum:\n",
    "    data[col+'_cum'] = data.groupby('geoId')[col].cumsum()"
   ]
  },
  {
   "cell_type": "code",
   "execution_count": 7,
   "metadata": {},
   "outputs": [],
   "source": [
    "data = data[data.date <= today]\n",
    "\n",
    "data = data.set_index('date')"
   ]
  },
  {
   "cell_type": "code",
   "execution_count": 8,
   "metadata": {},
   "outputs": [],
   "source": [
    "import matplotlib\n",
    "from matplotlib import pyplot as plt"
   ]
  },
  {
   "cell_type": "code",
   "execution_count": 9,
   "metadata": {
    "scrolled": false
   },
   "outputs": [
    {
     "name": "stderr",
     "output_type": "stream",
     "text": [
      "/Library/Frameworks/Python.framework/Versions/3.7/lib/python3.7/site-packages/pandas/plotting/_converter.py:129: FutureWarning: Using an implicitly registered datetime converter for a matplotlib plotting method. The converter was registered by pandas on import. Future versions of pandas will require you to explicitly register matplotlib converters.\n",
      "\n",
      "To register the converters:\n",
      "\t>>> from pandas.plotting import register_matplotlib_converters\n",
      "\t>>> register_matplotlib_converters()\n",
      "  warnings.warn(msg, FutureWarning)\n"
     ]
    },
    {
     "data": {
      "image/png": "[encoded data removed]",
      "text/plain": [
       "<Figure size 576x360 with 1 Axes>"
      ]
     },
     "metadata": {
      "needs_background": "light"
     },
     "output_type": "display_data"
    }
   ],
   "source": [
    "fig,ax = plt.subplots(figsize=(8,5))\n",
    "\n",
    "for cntry in ['IT','FR','DE','CN','ES']:\n",
    "    plt_data = data[data.geoId==cntry]\n",
    "    latest_data = plt_data.loc[plt_data.index==max(plt_data.index)]\n",
    "    ax.plot(plt_data.index, \"deaths_cum\", data=plt_data, label=cntry+' cumulative cases', linewidth=2)\n",
    "    ax.scatter(x=latest_data.index, y=latest_data.deaths_cum, s=50)\n",
    "    \n",
    "ax.legend()\n",
    "ax.grid()   \n"
   ]
  },
  {
   "cell_type": "code",
   "execution_count": 10,
   "metadata": {},
   "outputs": [],
   "source": [
    "data['cases_cum_lag'] = data.groupby('geoId')['cases_cum'].shift(-1)\n",
    "data['deaths_cum_lag'] = data.groupby('geoId')['deaths_cum'].shift(-1)"
   ]
  },
  {
   "cell_type": "code",
   "execution_count": 11,
   "metadata": {
    "scrolled": true
   },
   "outputs": [],
   "source": [
    "cases_diff = data.groupby('geoId').apply(lambda x: x.cases_cum.shift(-1) - x.cases_cum).reset_index()"
   ]
  },
  {
   "cell_type": "code",
   "execution_count": 12,
   "metadata": {
    "scrolled": true
   },
   "outputs": [
    {
     "name": "stdout",
     "output_type": "stream",
     "text": [
      "AD Not above threshold\n",
      "AE Not above threshold\n",
      "AF Not above threshold\n",
      "AG Not above threshold\n",
      "AI Not above threshold\n",
      "AL Not above threshold\n",
      "AM Not above threshold\n",
      "AO Not above threshold\n",
      "AR Not above threshold\n",
      "AT Not above threshold\n",
      "AU Not above threshold\n",
      "AW Not above threshold\n",
      "AZ Not above threshold\n",
      "BA Not above threshold\n",
      "BB Not above threshold\n",
      "BD Not above threshold\n",
      "BE OK\n",
      "BF Not above threshold\n",
      "BG Not above threshold\n",
      "BH Not above threshold\n",
      "BJ Not above threshold\n",
      "BM Not above threshold\n",
      "BN Not above threshold\n",
      "BO Not above threshold\n",
      "BR OK\n",
      "BS Not above threshold\n",
      "BT Not above threshold\n",
      "BY Not above threshold\n",
      "BZ Not above threshold\n",
      "CA Not above threshold\n",
      "CD Not above threshold\n",
      "CF Not above threshold\n",
      "CG Not above threshold\n",
      "CH OK\n",
      "CI Not above threshold\n",
      "CL Not above threshold\n",
      "CM Not above threshold\n",
      "CN OK\n",
      "CO Not above threshold\n",
      "CR Not above threshold\n",
      "CU Not above threshold\n",
      "CV Not above threshold\n",
      "CW Not above threshold\n",
      "CY Not above threshold\n",
      "CZ Not above threshold\n",
      "DE OK\n",
      "DJ Not above threshold\n",
      "DK Not above threshold\n",
      "DM Not above threshold\n",
      "DO Not above threshold\n",
      "DZ Not above threshold\n",
      "EC Not above threshold\n",
      "EE Not above threshold\n",
      "EG Not above threshold\n",
      "EL Not above threshold\n",
      "ER Not above threshold\n",
      "ES OK\n",
      "ET Not above threshold\n",
      "FI Not above threshold\n",
      "FJ Not above threshold\n",
      "FO Not above threshold\n",
      "FR OK\n",
      "GA Not above threshold\n",
      "GD Not above threshold\n",
      "GE Not above threshold\n",
      "GG Not above threshold\n",
      "GH Not above threshold\n",
      "GI Not above threshold\n",
      "GL Not above threshold\n",
      "GM Not above threshold\n",
      "GN Not above threshold\n",
      "GQ Not above threshold\n",
      "GT Not above threshold\n",
      "GU Not above threshold\n",
      "GW Not above threshold\n",
      "GY Not above threshold\n",
      "HN Not above threshold\n",
      "HR Not above threshold\n",
      "HT Not above threshold\n",
      "HU Not above threshold\n",
      "ID Not above threshold\n",
      "IE Not above threshold\n",
      "IL Not above threshold\n",
      "IM Not above threshold\n",
      "IN Not above threshold\n",
      "IQ Not above threshold\n",
      "IR OK\n",
      "IS Not above threshold\n",
      "IT OK\n",
      "JE Not above threshold\n",
      "JM Not above threshold\n",
      "JO Not above threshold\n",
      "JP Not above threshold\n",
      "JPG11668 Not above threshold\n",
      "KE Not above threshold\n",
      "KG Not above threshold\n",
      "KH Not above threshold\n",
      "KN Not above threshold\n",
      "KR Not above threshold\n",
      "KW Not above threshold\n",
      "KY Not above threshold\n",
      "KZ Not above threshold\n",
      "LA Not above threshold\n",
      "LB Not above threshold\n",
      "LC Not above threshold\n",
      "LI Not above threshold\n",
      "LK Not above threshold\n",
      "LR Not above threshold\n",
      "LT Not above threshold\n",
      "LU Not above threshold\n",
      "LV Not above threshold\n",
      "LY Not above threshold\n",
      "MA Not above threshold\n",
      "MC Not above threshold\n",
      "MD Not above threshold\n",
      "ME Not above threshold\n",
      "MG Not above threshold\n",
      "MK Not above threshold\n",
      "ML Not above threshold\n",
      "MM Not above threshold\n",
      "MN Not above threshold\n",
      "MR Not above threshold\n",
      "MS Not above threshold\n",
      "MT Not above threshold\n",
      "MU Not above threshold\n",
      "MV Not above threshold\n",
      "MX Not above threshold\n",
      "MY Not above threshold\n",
      "MZ Not above threshold\n",
      "NC Not above threshold\n",
      "NE Not above threshold\n",
      "NG Not above threshold\n",
      "NI Not above threshold\n",
      "NL OK\n",
      "NO Not above threshold\n",
      "NP Not above threshold\n",
      "NZ Not above threshold\n",
      "OM Not above threshold\n",
      "PA Not above threshold\n",
      "PE Not above threshold\n",
      "PF Not above threshold\n",
      "PG Not above threshold\n",
      "PH Not above threshold\n",
      "PK Not above threshold\n",
      "PL Not above threshold\n",
      "PR Not above threshold\n",
      "PS Not above threshold\n",
      "PT OK\n",
      "PY Not above threshold\n",
      "QA Not above threshold\n",
      "RO Not above threshold\n",
      "RS Not above threshold\n",
      "RU Not above threshold\n",
      "RW Not above threshold\n",
      "SA Not above threshold\n",
      "SC Not above threshold\n",
      "SD Not above threshold\n",
      "SE OK\n",
      "SG Not above threshold\n",
      "SI Not above threshold\n",
      "SK Not above threshold\n",
      "SM Not above threshold\n",
      "SN Not above threshold\n",
      "SO Not above threshold\n",
      "SR Not above threshold\n",
      "SV Not above threshold\n",
      "SX Not above threshold\n",
      "SY Not above threshold\n",
      "SZ Not above threshold\n",
      "TC Not above threshold\n",
      "TD Not above threshold\n",
      "TG Not above threshold\n",
      "TH Not above threshold\n",
      "TL Not above threshold\n",
      "TN Not above threshold\n",
      "TR Not above threshold\n",
      "TT Not above threshold\n",
      "TW Not above threshold\n",
      "TZ Not above threshold\n",
      "UA Not above threshold\n",
      "UG Not above threshold\n",
      "UK OK\n",
      "US OK\n",
      "UY Not above threshold\n",
      "UZ Not above threshold\n",
      "VA Not above threshold\n",
      "VC Not above threshold\n",
      "VE Not above threshold\n",
      "VG Not above threshold\n",
      "VI Not above threshold\n",
      "VN Not above threshold\n",
      "XK Not above threshold\n",
      "ZA Not above threshold\n",
      "ZM Not above threshold\n",
      "ZW Not above threshold\n",
      "nan Not above threshold\n"
     ]
    }
   ],
   "source": [
    "lag_dict = {}\n",
    "for cntry in data.geoId.unique():\n",
    "    #df = cases_diff[cases_diff.geoId == cntry].set_index('date')\n",
    "    df = data[data.geoId==cntry]#.set_index('date')\n",
    "    #df = df[df.index > '2020-02-20'].deaths >50\n",
    "    df = df.deaths >20\n",
    "#     df = df.cases_cum > 200\n",
    "    try:\n",
    "        lag_date = df[df==True].index[0]\n",
    "        tmp = {cntry : lag_date}\n",
    "        lag_dict.update(tmp)\n",
    "        print(cntry, 'OK')\n",
    "    except:\n",
    "        print(cntry, 'Not above threshold')"
   ]
  },
  {
   "cell_type": "code",
   "execution_count": 13,
   "metadata": {},
   "outputs": [],
   "source": [
    "#lag_dict['CN'] = pd.to_datetime('2019-12-31')"
   ]
  },
  {
   "cell_type": "code",
   "execution_count": 14,
   "metadata": {
    "scrolled": true
   },
   "outputs": [
    {
     "name": "stdout",
     "output_type": "stream",
     "text": [
      "country =  IT\n",
      "lag_date:  2020-03-13 00:00:00\n",
      "country =  FR\n",
      "lag_date:  2020-03-16 00:00:00\n",
      "country =  DE\n",
      "lag_date:  2020-03-20 00:00:00\n",
      "country =  CN\n",
      "lag_date:  2020-01-02 00:00:00\n",
      "country =  ES\n",
      "lag_date:  2020-03-13 00:00:00\n"
     ]
    }
   ],
   "source": [
    "for cntry in ['IT','FR','DE','CN','ES']:\n",
    "    lag_date = lag_dict[cntry]\n",
    "    start_date = min(data.index)\n",
    "#     len_cntry = data.loc[(data.index>=lag_date) & (data.index < today) & (data.geoId==cntry)].shape[0]\n",
    "    print(\"country = \", cntry)\n",
    "    print(\"lag_date: \", lag_date)\n",
    "    data.loc[(data.index>=start_date) & (data.index < today) & (data.geoId==cntry), 't'] = \\\n",
    "            data.loc[(data.index>=start_date) & (data.index < today) & (data.geoId==cntry)].index-lag_date"
   ]
  },
  {
   "cell_type": "code",
   "execution_count": 17,
   "metadata": {},
   "outputs": [],
   "source": [
    "data_main = data[(data.geoId.isin(['IT','FR','DE','CN','ES']))].copy()\n",
    "\n",
    "data_main = data_main[['geoId','cases','deaths','cases_cum','deaths_cum','t']]\n",
    "\n",
    "data_main['t'] = data_main.t.dt.days"
   ]
  },
  {
   "cell_type": "code",
   "execution_count": 18,
   "metadata": {},
   "outputs": [],
   "source": [
    "data_main['cases_mav'] = data_main.cases_cum.rolling(3).mean()\n",
    "data_main['deaths_mav'] = data_main.deaths_cum.rolling(3).mean()"
   ]
  },
  {
   "cell_type": "code",
   "execution_count": 22,
   "metadata": {},
   "outputs": [
    {
     "data": {
      "image/png": "[encoded data removed]",
      "text/plain": [
       "<Figure size 576x360 with 1 Axes>"
      ]
     },
     "metadata": {
      "needs_background": "light"
     },
     "output_type": "display_data"
    }
   ],
   "source": [
    "fig,ax = plt.subplots(figsize=(8,5))\n",
    "\n",
    "for cntry in ['IT','FR','DE','CN','ES']:\n",
    "    plt_data = data[data.geoId==cntry]\n",
    "#     latest_data = plt_data.loc[plt_data.index==max(plt_data.index)]\n",
    "    ax.plot(plt_data.t.dt.days, \"deaths_cum\", data=plt_data, label=cntry+' cumulative cases', linewidth=2)\n",
    "#     ax.scatter(x=latest_data.index, y=latest_data.deaths_cum, s=50)\n",
    "    plt.xlim(-3,50)\n",
    "    plt.yscale('log')\n",
    "ax.legend()\n",
    "ax.grid()   "
   ]
  },
  {
   "cell_type": "code",
   "execution_count": 54,
   "metadata": {},
   "outputs": [
    {
     "data": {
      "text/plain": [
       "Index(['day', 'month', 'year', 'cases', 'deaths', 'countriesAndTerritories',\n",
       "       'geoId', 'countryterritoryCode', 'popData2018', 'cases_cum',\n",
       "       'deaths_cum', 'cases_cum_lag', 'deaths_cum_lag', 't'],\n",
       "      dtype='object')"
      ]
     },
     "execution_count": 54,
     "metadata": {},
     "output_type": "execute_result"
    }
   ],
   "source": [
    "plt_data.columns"
   ]
  },
  {
   "cell_type": "code",
   "execution_count": 79,
   "metadata": {},
   "outputs": [
    {
     "data": {
      "image/png": "[encoded data removed]",
      "text/plain": [
       "<Figure size 432x288 with 1 Axes>"
      ]
     },
     "metadata": {
      "needs_background": "light"
     },
     "output_type": "display_data"
    }
   ],
   "source": [
    "fig,ax = plt.subplots()\n",
    "\n",
    "plt_data = data_main[data_main.geoId=='IT']\n",
    "ax.plot(\"deaths_mav\", \"deaths\", data=plt_data)\n",
    "plt.yscale('log')\n",
    "plt.xscale('log')"
   ]
  }
 ],
 "metadata": {
  "kernelspec": {
   "display_name": "Python 3",
   "language": "python",
   "name": "python3"
  },
  "language_info": {
   "codemirror_mode": {
    "name": "ipython",
    "version": 3
   },
   "file_extension": ".py",
   "mimetype": "text/x-python",
   "name": "python",
   "nbconvert_exporter": "python",
   "pygments_lexer": "ipython3",
   "version": "3.7.3"
  }
 },
 "nbformat": 4,
 "nbformat_minor": 2
}
